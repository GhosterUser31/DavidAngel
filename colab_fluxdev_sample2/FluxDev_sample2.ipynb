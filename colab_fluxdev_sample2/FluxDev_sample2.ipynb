{
  "cells": [
    {
      "cell_type": "code",
      "execution_count": null,
      "metadata": {
        "colab": {
          "base_uri": "https://localhost:8080/"
        },
        "id": "bTNQV_Doqpin",
        "outputId": "022600c1-4e9b-459f-845a-75639923870f"
      },
      "outputs": [
        {
          "name": "stdout",
          "output_type": "stream",
          "text": [
            "Mounted at /content/drive\n"
          ]
        }
      ],
      "source": [
        "#Google Driveのフォルダをマウント（認証入る）\n",
        "from google.colab import drive\n",
        "drive.mount('/content/drive')"
      ]
    },
    {
      "cell_type": "code",
      "execution_count": null,
      "metadata": {
        "id": "rVAhS-kHalqS"
      },
      "outputs": [],
      "source": [
        "#SDXL で必要なモジュールのインストール\n",
        "%rm -r /content/diffusers\n",
        "%cd /content/\n",
        "!git clone https://github.com/huggingface/diffusers.git\n",
        "!pip install -U bitsandbytes optimum-quanto peft tensorflow-metadata transformers scikit-learn ftfy accelerate invisible_watermark safetensors controlnet-aux mediapipe timm\n",
        "\n"
      ]
    },
    {
      "cell_type": "markdown",
      "metadata": {
        "id": "blVCiBS3oiJN"
      },
      "source": [
        "下記のコードを実行すると，認証が求められるので，認証してください。（Google colabにマイドライブの中を読めるようにする認証です）"
      ]
    },
    {
      "cell_type": "code",
      "execution_count": null,
      "metadata": {
        "id": "zsXHutODbKNm"
      },
      "outputs": [],
      "source": [
        "from huggingface_hub import login\n",
        "from google.colab import userdata\n",
        "HF_LOGIN = userdata.get('HF_LOGIN')\n",
        "login(HF_LOGIN)\n",
        "\n",
        "# カレントディレクトリを本ファイルが存在するディレクトリに変更する。\n",
        "import glob\n",
        "import os\n",
        "pwd = os.path.dirname(glob.glob('/content/drive/MyDrive/colabzenn/colab_fluxdev_sample2/FluxDev_sample2.ipynb', recursive=True)[0])\n",
        "print(pwd)\n",
        "\n",
        "%cd $pwd\n",
        "!pwd\n",
        "\n",
        "import sys\n",
        "sys.path.append(\"/content/diffusers/src\")"
      ]
    },
    {
      "cell_type": "code",
      "execution_count": null,
      "metadata": {
        "id": "ey78bY1ocaX3"
      },
      "outputs": [],
      "source": [
        "#モジュールをimportする\n",
        "from module.module_flux import FLUX\n",
        "import time"
      ]
    },
    {
      "cell_type": "markdown",
      "metadata": {
        "id": "QZr63ewGqvy5"
      },
      "source": [
        "モデルを変更する場合は，下記のconfigを変更してください。\n",
        "\n",
        "「;」を付けるとコメントアウトできます。\n"
      ]
    },
    {
      "cell_type": "code",
      "execution_count": null,
      "metadata": {
        "id": "A-l7r0X0fVav"
      },
      "outputs": [],
      "source": [
        "#モデルの設定を行う。\n",
        "\n",
        "config_text = \"\"\"\n",
        "[FLUX]\n",
        "device = auto\n",
        "n_steps=24\n",
        "seed=42\n",
        "\n",
        ";model_mode = t2i\n",
        "model_mode = i2i\n",
        "\n",
        "strength = 0.6\n",
        "\n",
        ";from_single_file = False\n",
        ";base_model_path = black-forest-labs/FLUX.1-schnell\n",
        "base_model_path = black-forest-labs/FLUX.1-dev\n",
        "\n",
        "use_controlnet = False\n",
        ";controlnet_path = Shakker-Labs/FLUX.1-dev-ControlNet-Union-Pro\n",
        "controlnet_path = Shakker-Labs/FLUX.1-dev-ControlNet-Depth\n",
        "\n",
        ";control_mode0 = canny\n",
        ";control_mode1 = tile\n",
        "control_mode2 = depth\n",
        ";control_mode3 = blur\n",
        ";control_mode4 = pose\n",
        ";control_mode5 = gray\n",
        ";control_mode6 = lq\n",
        "\n",
        ";lora_weight_repo0 = alfredplpl/flux.1-dev-modern-anime-lora\n",
        ";lora_weight_path0 = modern-anime-lora-2.safetensors\n",
        ";lora_weight_repo1 = aleksa-codes/flux-ghibsky-illustration\n",
        ";lora_weight_path1 = lora.safetensors\n",
        ";lora_scale0 = 1.0\n",
        ";lora_scale1 = 1.0\n",
        ";trigger_word0 = \"modern anime style\"\n",
        ";trigger_word1 = \"GHIBSKY style painting\"\n",
        ";lora_weight_repo2 = None\n",
        ";lora_weight_path2 = ./inputs/QTCanimation_lora_v1-PAseer.safetensors\n",
        ";lora_scale2 = 1.0\n",
        ";trigger_word2 = \"\"\n",
        "\n",
        ";select_solver = LCM\n",
        ";select_solver = DPM\n",
        ";select_solver = Eulera\n",
        "select_solver = FMEuler\n",
        "\n",
        "use_karras_sigmas = True\n",
        "scheduler_algorithm_type = dpmsolver++\n",
        "solver_order = 2\n",
        "\n",
        "cfg_scale = 3.5\n",
        ";cfg_scale = 1.0\n",
        "width = 832\n",
        "height = 1216\n",
        "output_type = pil\n",
        "aesthetic_score = 6\n",
        "negative_aesthetic_score = 2.5\n",
        "\n",
        "save_latent_simple = False\n",
        "save_latent_overstep = False\n",
        "\n",
        "\n",
        "\"\"\"\n",
        "\n",
        "with open(\"configs/config.ini\", \"w\", encoding=\"utf-8\") as f:\n",
        "  f.write(config_text)"
      ]
    },
    {
      "cell_type": "markdown",
      "metadata": {
        "id": "zFKCmmGbsJRr"
      },
      "source": [
        "生成する画像を決定するプロンプトを指定します。\n",
        "\n",
        "negative_promptを設定することで，ここに書かれている内容を回避できる。\n"
      ]
    },
    {
      "cell_type": "code",
      "execution_count": null,
      "metadata": {
        "id": "-qfiDqWoqPuf"
      },
      "outputs": [],
      "source": [
        "#読み上げるプロンプトを設定する。\n",
        "\n",
        "# not use controlnet\n",
        "#main_prompt = \"\"\"\n",
        "#modern anime style, a cute Japanese idle singer girl, long Yellowish-white hair with red small ribbon,red eyes,small red hat ,She is singing ,holding a microphone, wearing white idle costume, standing on the stage ,This is a flashy concert with 3D holograms and laser effects\n",
        "#\"\"\"\n",
        "\n",
        "#use controlnet depth\n",
        "#main_prompt = \"\"\"\n",
        "#modern anime style, a cute Japanese idle singer girl, long Yellowish-white hair with red small ribbon,red eyes,small red hat ,She sings with a smile on her face , wearing white idle costume, standing on the stage ,This is a flashy concert with 3D holograms and laser effects\n",
        "#\"\"\"\n",
        "\n",
        "#use i2i + lora\n",
        "main_prompt = \"\"\"\n",
        "modern anime style, a cute Japanese idle singer girl, long Yellowish-white hair with red small ribbon,red eyes,small red hat ,She sings with a smile on her face ,make a peace sign with her left hand, wearing white idle costume, standing on the stage ,This is a flashy concert with 3D holograms and laser effects\n",
        "\"\"\"\n",
        "\n",
        "\n",
        "\n",
        "#double lora and anime lora only\n",
        "#main_prompt = \"\"\"\n",
        "#a cute Japanese idle singer girl, long Yellowish-white hair with red small ribbon,red eyes,small red hat ,She sings with a smile on her face , wearing white idle costume, standing on the stage\n",
        "#\"\"\"\n",
        "\n",
        "\n",
        "#use controlnet canny\n",
        "#main_prompt = \"\"\"\n",
        "#modern anime style, a cute Japanese idle singer girl, long Yellowish-white hair with red small ribbon,red eyes\n",
        "#\"\"\"\n",
        "\n",
        "#コントロールネットに入力する参照画像は0から6までの数字を想定（0.png,6.webpなど。数字はcontrolnetのモードと一致させてください）\n",
        "#参照）コントロールネットのモード　canny (0), tile (1), depth (2), blur (3), pose (4), gray (5), low quality (6).\n",
        "input_refer_image_folder = \"./inputs/controlnet/refer\"\n",
        "#コントロールネットに入力する変換後の参照画像の格納フォルダ。命名規則は上記と同様\n",
        "output_refer_image_folder = \"./inputs/controlnet/refer_prepared\"\n",
        "\n",
        "#image to imageモードを利用する際の画像path\n",
        "i2i_image_path = \"./inputs/imagetoimage/inputs1.png\"\n",
        "\n",
        "\n",
        "\n"
      ]
    },
    {
      "cell_type": "code",
      "execution_count": null,
      "metadata": {
        "id": "jlFlDc0acs-f"
      },
      "outputs": [],
      "source": [
        "flux = FLUX()\n",
        "#指定しているControlNetで利用できる\"./inputs/refer_prepared/0.png\"などがすでにある場合は、下記はコメントアウトしても良い\n",
        "#flux.prepare_multi_referimage(input_refer_image_folder = input_refer_image_folder,output_refer_image_folder = output_refer_image_folder, low_threshold = 100, high_threshold = 200, noise_level=25, blur_radius=5)\n",
        "\n"
      ]
    },
    {
      "cell_type": "code",
      "execution_count": null,
      "metadata": {
        "id": "tp7Mbp_foIDQ"
      },
      "outputs": [],
      "source": [
        "controlnet_conditioning_scale = [0.5]\n",
        "temp_strength = 0.6\n",
        "#temp_strength = None\n",
        "\n",
        "for i in range(5):\n",
        "      start = time.time()\n",
        "      image = flux.generate_image(main_prompt,c_image_path = output_refer_image_folder, i_image_path = i2i_image_path, controlnet_conditioning_scale = controlnet_conditioning_scale, temp_strength = temp_strength)\n",
        "      print(\"generate image time: \", time.time()-start)\n",
        "      image.save(\"./outputs/FLUX_result_{}.png\".format(i))"
      ]
    },
    {
      "cell_type": "code",
      "execution_count": null,
      "metadata": {
        "id": "kE4OCy-SxDNX"
      },
      "outputs": [],
      "source": [
        "from google.colab import runtime\n",
        "get = 0\n",
        "if get == 1:\n",
        "    runtime.unassign()"
      ]
    },
    {
      "cell_type": "code",
      "execution_count": null,
      "metadata": {
        "id": "Lgaeb4WSxE0s"
      },
      "outputs": [],
      "source": []
    }
  ],
  "metadata": {
    "accelerator": "GPU",
    "colab": {
      "gpuType": "L4",
      "machine_shape": "hm",
      "provenance": []
    },
    "kernelspec": {
      "display_name": "Python 3",
      "name": "python3"
    },
    "language_info": {
      "name": "python"
    }
  },
  "nbformat": 4,
  "nbformat_minor": 0
}